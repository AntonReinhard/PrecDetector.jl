{
 "cells": [
  {
   "cell_type": "markdown",
   "source": [
    "# Benchmarking Imprecisions of a Function"
   ],
   "metadata": {}
  },
  {
   "cell_type": "markdown",
   "source": [
    "For functions or expressions taking in some amount of floating point numbers and\n",
    "returning a single floating point number, `PrecisionCarriers.jl` provides a simple\n",
    "macro to quickly check for precision problems:"
   ],
   "metadata": {}
  },
  {
   "outputs": [
    {
     "output_type": "execute_result",
     "data": {
      "text/plain": "  \u001b[36msamples: \u001b[0m \u001b[1m10000\u001b[0m\n  \u001b[32mminimum: \u001b[0m \u001b[1m0\u001b[0m ε\n  \u001b[34mmedian:  \u001b[0m \u001b[1m0.0\u001b[0m ε\n  \u001b[35mmean:    \u001b[0m \u001b[1m0.655\u001b[0m ε\n  \u001b[31mmaximum: \u001b[0m \u001b[1m1030\u001b[0m ε\n\n█                                                           \n█▁▁▁▁▁▄▁▁▃▁▁▂▁▂▂▁▂▂▂▂▂▂▂▂▂▁▂▂▂▂▂▂▂▂▁▂▂▁▁▂▂▁▂▁▁▁▂▁▁▁▁▂▁▁▁▁▁▁▂\n\u001b[32m^ 1 ε\u001b[39m                   \u001b[0m\u001b[1m\u001b[4mlog scale\u001b[24m\u001b[22m                   \u001b[31m1030 ε ^\u001b[39m\n\n  \u001b[1mlargest imprecisions\u001b[0m:\nfoo(Float64(1.0), precify(0.9999499949995)) -> \u001b[35m<ε=1030>\u001b[39m\n"
     },
     "metadata": {},
     "execution_count": 1
    }
   ],
   "cell_type": "code",
   "source": [
    "using PrecisionCarriers\n",
    "\n",
    "foo(x, y) = sqrt(abs(x^2 - y^2))\n",
    "\n",
    "@bench_epsilons foo(1.0, y) ranges = begin\n",
    "    y = (0.5, 1.0)\n",
    "end"
   ],
   "metadata": {},
   "execution_count": 1
  },
  {
   "cell_type": "markdown",
   "source": [
    "Function calls can be nested inside the expression as well, or multiple variables\n",
    "sampled simultaneously:"
   ],
   "metadata": {}
  },
  {
   "outputs": [
    {
     "output_type": "execute_result",
     "data": {
      "text/plain": "  \u001b[36msamples: \u001b[0m \u001b[1m10000\u001b[0m\n  \u001b[32mminimum: \u001b[0m \u001b[1m0\u001b[0m ε\n  \u001b[34mmedian:  \u001b[0m \u001b[1m0.0\u001b[0m ε\n  \u001b[35mmean:    \u001b[0m \u001b[1m1.294\u001b[0m ε\n  \u001b[31mmaximum: \u001b[0m \u001b[1m5628\u001b[0m ε\n\n█ \u001b[35m \u001b[39m                                                         \n█▁\u001b[35m▁\u001b[39m▁▁▃▁▁▂▂▁▂▂▂▂▂▂▂▂▂▂▂▂▂▂▂▂▂▂▁▂▂▂▂▂▂▁▁▁▁▁▁▁▂▁▁▁▁▁▂▁▁▁▁▁▁▁▁▁▂\n\u001b[32m^ 1 ε\u001b[39m                   \u001b[0m\u001b[1m\u001b[4mlog scale\u001b[24m\u001b[22m                   \u001b[31m5628 ε ^\u001b[39m\n\n  \u001b[1mlargest imprecisions\u001b[0m:\nfoo(exp2(precify(0.5)), precify(1.4141414141414141)) -> \u001b[35m<ε=5628>\u001b[39m\nfoo(exp2(precify(0.5606060606060606)), precify(1.4747474747474747)) -> \u001b[35m<ε=1399>\u001b[39m\n"
     },
     "metadata": {},
     "execution_count": 2
    }
   ],
   "cell_type": "code",
   "source": [
    "@bench_epsilons foo(exp2(x), y) ranges = begin\n",
    "    x = (0.5, 2.0)\n",
    "    y = (0.0, 2.0)\n",
    "end"
   ],
   "metadata": {},
   "execution_count": 2
  },
  {
   "cell_type": "markdown",
   "source": [
    "To interpolate values from your local scope, use the `$` syntax:"
   ],
   "metadata": {}
  },
  {
   "outputs": [
    {
     "output_type": "execute_result",
     "data": {
      "text/plain": "  \u001b[36msamples: \u001b[0m \u001b[1m10000\u001b[0m\n  \u001b[32mminimum: \u001b[0m \u001b[1m0\u001b[0m ε\n  \u001b[34mmedian:  \u001b[0m \u001b[1m0.0\u001b[0m ε\n  \u001b[35mmean:    \u001b[0m \u001b[1m0.172\u001b[0m ε\n  \u001b[31mmaximum: \u001b[0m \u001b[1m1\u001b[0m ε\n\n  \u001b[1mno imprecisions > 1000ε found\u001b[0m\n"
     },
     "metadata": {},
     "execution_count": 3
    }
   ],
   "cell_type": "code",
   "source": [
    "z = 5.0\n",
    "\n",
    "@bench_epsilons foo(exp2(x), y * $z) ranges = begin\n",
    "    x = (1.0, 2.0)\n",
    "    y = (0.0, 0.3)\n",
    "end search_method = :random_search"
   ],
   "metadata": {},
   "execution_count": 3
  },
  {
   "cell_type": "markdown",
   "source": [
    "For information on the supported keyword arguments, see also `@bench_epsilons`."
   ],
   "metadata": {}
  },
  {
   "cell_type": "markdown",
   "source": [
    "---\n",
    "\n",
    "*This notebook was generated using [Literate.jl](https://github.com/fredrikekre/Literate.jl).*"
   ],
   "metadata": {}
  }
 ],
 "nbformat_minor": 3,
 "metadata": {
  "language_info": {
   "file_extension": ".jl",
   "mimetype": "application/julia",
   "name": "julia",
   "version": "1.10.10"
  },
  "kernelspec": {
   "name": "julia-1.10",
   "display_name": "Julia 1.10.10",
   "language": "julia"
  }
 },
 "nbformat": 4
}
