{
 "cells": [
  {
   "cell_type": "code",
   "execution_count": null,
   "id": "b156353e",
   "metadata": {},
   "outputs": [],
   "source": [
    "using PrecisionCarriers\n",
    "using Random\n",
    "using Pkg\n",
    "Pkg.develop(url=\"/home/antonr/repos/QEDbase.jl\")\n",
    "Pkg.develop(url=\"/home/antonr/repos/QEDcore.jl\")\n",
    "Pkg.develop(url=\"/home/antonr/repos/QEDprocesses.jl\")\n",
    "Pkg.develop(url=\"/home/antonr/repos/QEDFeynmanDiagrams.jl\")\n",
    "using QEDbase, QEDcore, QEDprocesses, QEDFeynmanDiagrams"
   ]
  },
  {
   "cell_type": "code",
   "execution_count": null,
   "id": "f7a745eb",
   "metadata": {},
   "outputs": [],
   "source": [
    "RNG = MersenneTwister(0)\n",
    "\n",
    "FLOAT_T = PrecisionCarrier{Float64}\n",
    "\n",
    "PROC = Compton()\n",
    "MODEL = PerturbativeQED()\n",
    "PSL = ComptonSphericalLayout(ComptonRestSystem(Energy(2)))\n",
    "\n",
    "OMEGA = 1.0e3\n",
    "\n",
    "N_PHIS = 10\n",
    "N_COS = 2000\n",
    "\n",
    "PHIS_LIMS = (0.0, 2*pi)\n",
    "PHIS = (PHIS_LIMS[2] - PHIS_LIMS[1]) .* [(0.0:1.0/N_PHIS:1.0)..., ] .+ PHIS_LIMS[1]\n",
    "\n",
    "COS_THETAS_LIMS = (0.999, 1.0)\n",
    "COS_THETAS = (COS_THETAS_LIMS[2] - COS_THETAS_LIMS[1]) .* [(0.0:1.0/N_COS:1.0)..., ] .+ COS_THETAS_LIMS[1]"
   ]
  },
  {
   "cell_type": "code",
   "execution_count": null,
   "id": "3fdb453c",
   "metadata": {},
   "outputs": [],
   "source": [
    "@bench_epsilons unsafe_differential_cross_section(PhaseSpacePoint(PROC, MODEL, PSL, (omega,), (cth, phi))) ranges = begin\n",
    "    omega = (1.0, 1000.0)\n",
    "    phi = (0.0, 3.0)\n",
    "    cth = (0.999, 1.0)\n",
    "end"
   ]
  },
  {
   "cell_type": "code",
   "execution_count": null,
   "id": "db93e8f9",
   "metadata": {},
   "outputs": [],
   "source": [
    "coords = [Iterators.product(COS_THETAS, PHIS)..., ]\n",
    "coords = [Iterators.zip(getindex.(coords, 1), getindex.(coords, 2))...,]\n",
    "moms = (QEDbase._build_momenta.(PROC, MODEL, PSL, Ref((precify(FLOAT_T, OMEGA), )), precify(FLOAT_T, coords)))\n",
    "moms = reshape(moms, (length(COS_THETAS), length(PHIS)))\n",
    "\n",
    "max_eps = 0\n",
    "for single_moms in moms\n",
    "    for in_out_moms in single_moms\n",
    "        for mom in in_out_moms\n",
    "            epsilons = maximum(PrecisionCarriers._no_epsilons.(mom))\n",
    "            if epsilons > max_eps\n",
    "                println(\"new max epsilons $epsilons from $mom\")\n",
    "                max_eps = epsilons\n",
    "            end\n",
    "        end\n",
    "    end\n",
    "end\n",
    "println(\"Maximum epsilon observed: $max_eps\")\n",
    "\n",
    "out_matrix = fill(zero(FLOAT_T), (length(COS_THETAS), length(PHIS)))"
   ]
  },
  {
   "cell_type": "code",
   "execution_count": null,
   "id": "bc04a3b5",
   "metadata": {},
   "outputs": [],
   "source": [
    "adapted_moms = moms"
   ]
  },
  {
   "cell_type": "code",
   "execution_count": null,
   "id": "5caea66d",
   "metadata": {},
   "outputs": [],
   "source": [
    "using ProgressMeter\n",
    "using Base.Threads\n",
    "\n",
    "out_matrix = unsafe_differential_cross_section.(\n",
    "        PhaseSpacePoint.(\n",
    "            PROC,\n",
    "            MODEL,\n",
    "            PSL,\n",
    "            Ref((precify(FLOAT_T, OMEGA), )),\n",
    "            precify(FLOAT_T, coords)\n",
    "        )\n",
    "    )\n",
    "\n",
    "out_matrix = reshape(out_matrix, (length(COS_THETAS), length(PHIS)))"
   ]
  },
  {
   "cell_type": "code",
   "execution_count": null,
   "id": "4ad937dc",
   "metadata": {},
   "outputs": [],
   "source": [
    "using CairoMakie\n",
    "\n",
    "f = Figure(;)\n",
    "ax1 = Axis(f[1, 1]; title = \"differential cross section ($PROC, $(eltype(FLOAT_T)))\", xlabel = \"cos(θ)\", ylabel = \"ϕ / π\")\n",
    "ax2 = Axis(f[2, 1]; title = \"number of epsilons\", xlabel = \"cos(θ)\", ylabel = \"ϕ / π\")\n",
    "\n",
    "vals = getfield.(out_matrix, :x)\n",
    "co_vals = contourf!(ax1, COS_THETAS, PHIS ./ π, vals; levels=50, colorscale=log10)\n",
    "\n",
    "sig_digits = PrecisionCarriers._no_epsilons.(out_matrix)\n",
    "@show maximum(sig_digits)\n",
    "co_sig_digits = contourf!(ax2, COS_THETAS, PHIS ./ π, sig_digits; levels=5)\n",
    "\n",
    "Colorbar(f[1, 2], co_vals)\n",
    "Colorbar(f[2, 2], co_sig_digits)\n",
    "\n",
    "f"
   ]
  },
  {
   "cell_type": "code",
   "execution_count": null,
   "id": "7f85f997",
   "metadata": {},
   "outputs": [],
   "source": [
    "save(\"compton_epsilons_$(eltype(FLOAT_T))_$OMEGA.pdf\", f)"
   ]
  }
 ],
 "metadata": {
  "kernelspec": {
   "display_name": "Julia 1.11.6",
   "language": "julia",
   "name": "julia-1.11"
  },
  "language_info": {
   "file_extension": ".jl",
   "mimetype": "application/julia",
   "name": "julia",
   "version": "1.11.6"
  }
 },
 "nbformat": 4,
 "nbformat_minor": 5
}
